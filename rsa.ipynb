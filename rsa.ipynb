{
 "cells": [
  {
   "cell_type": "code",
   "execution_count": 1,
   "id": "8e7f1280-cf1c-4bea-8fd3-32ad2e564fcd",
   "metadata": {},
   "outputs": [
    {
     "name": "stdin",
     "output_type": "stream",
     "text": [
      "Enter secret message:  Hello!\n"
     ]
    },
    {
     "name": "stdout",
     "output_type": "stream",
     "text": [
      "[160451243, 142033527, 149714428, 149714428, 162934986, 18472002]\n",
      "Hello!\n"
     ]
    }
   ],
   "source": [
    "p = 12553\n",
    "q = 13007\n",
    "k = 79921\n",
    "message = input('Enter secret message: ')\n",
    "\n",
    "encrypt_dict = {500:\"a\",501:\"b\",502:\"c\",503:\"d\",504:\"e\",505:\"f\",506:\"g\",507:\"h\",508:\"i\",509:\"j\",510:\"k\",511:\"l\",\n",
    "                512:\"m\",513:\"n\",514:\"o\",515:\"p\",516:\"q\",517:\"r\",518:\"s\",519:\"t\",520:\"u\",521:\"v\",522:\"w\",523:\"x\",\n",
    "                524:\"y\",525:\"z\",526:\"A\",526:\"B\",527:\"C\",528:\"D\",529:\"E\",530:\"F\",531:\"G\",532:\"H\",533:\"I\",534:\"J\",\n",
    "                535:\"K\",536:\"L\",537:\"M\",538:\"N\",539:\"O\",540:\"P\",541:\"Q\",542:\"R\",543:\"S\",544:\"T\",545:\"U\",546:\"V\",\n",
    "                547:\"W\",548:\"X\",549:\"Y\",550:\"Z\",551:\",\",552:\".\",553:\";\",554:\"!\",555:\"?\",556:\" \"}                \n",
    "key_list = list(encrypt_dict.keys())\n",
    "val_list = list(encrypt_dict.values())\n",
    "\n",
    "def gcd(p1, p2):\n",
    "    u = 1\n",
    "    g = p1\n",
    "    x = 0\n",
    "    y = p2\n",
    "    while y != 0:\n",
    "        q = g // y\n",
    "        t = g % y\n",
    "        s = u - (q * x)\n",
    "        u = x\n",
    "        g = y\n",
    "        x = s\n",
    "        y = t\n",
    "    v = ((g-p1*u)/p2)\n",
    "    return u,v,g\n",
    "def ssquare(a,k,m):\n",
    "    b = 1\n",
    "    while k >= 1:\n",
    "        if k % 2 == 1:\n",
    "            b = (a * b) % m\n",
    "        a = (a ** 2) % m\n",
    "        k = k // 2\n",
    "    return b\n",
    "def root(k,b,m):\n",
    "    u,v,g = gcd(k, m-p-q+1)\n",
    "    n = (u + m-p-q+1) % (m-p-q+1)\n",
    "    return ssquare(b,n,m)\n",
    "\n",
    "def encrypt(message,p,q,k):\n",
    "    m = ''\n",
    "    for i in range(len(message)):\n",
    "        m += str(key_list[val_list.index(message[i])])\n",
    "    v = [m[i:i+3] for i in range(0, len(m), 3)]\n",
    "    z = []\n",
    "    for o in v:\n",
    "        e = ssquare(int(o),k,(p*q))\n",
    "        z.append(int(e))\n",
    "    return z\n",
    "\n",
    "encrypted = encrypt(message,p,q,k)\n",
    "print(encrypted)\n",
    "\n",
    "def decrypt(z,p,q,k):\n",
    "    r = ''\n",
    "    for f in z:\n",
    "        a = root(k,f,(p*q))\n",
    "        v = encrypt_dict[int(a)]\n",
    "        r += v\n",
    "    return r\n",
    "decrypted = decrypt(encrypted,p,q,k)\n",
    "print(decrypted)"
   ]
  }
 ],
 "metadata": {
  "kernelspec": {
   "display_name": "Python 3 (ipykernel)",
   "language": "python",
   "name": "python3"
  },
  "language_info": {
   "codemirror_mode": {
    "name": "ipython",
    "version": 3
   },
   "file_extension": ".py",
   "mimetype": "text/x-python",
   "name": "python",
   "nbconvert_exporter": "python",
   "pygments_lexer": "ipython3",
   "version": "3.10.6"
  }
 },
 "nbformat": 4,
 "nbformat_minor": 5
}
