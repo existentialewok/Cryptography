{
 "cells": [
  {
   "cell_type": "code",
   "execution_count": 27,
   "id": "7bcbc891-4e2d-46c3-82df-b5b5fb702f89",
   "metadata": {},
   "outputs": [],
   "source": [
    "encrypt_dict = {500:\"a\",501:\"b\",502:\"c\",503:\"d\",504:\"e\",505:\"f\",506:\"g\",507:\"h\",508:\"i\",509:\"j\",510:\"k\",511:\"l\",\n",
    "                512:\"m\",513:\"n\",514:\"o\",515:\"p\",516:\"q\",517:\"r\",518:\"s\",519:\"t\",520:\"u\",521:\"v\",522:\"w\",523:\"x\",\n",
    "                524:\"y\",525:\"z\",526:\"A\",526:\"B\",527:\"C\",528:\"D\",529:\"E\",530:\"F\",531:\"G\",532:\"H\",533:\"I\",534:\"J\",\n",
    "                535:\"K\",536:\"L\",537:\"M\",538:\"N\",539:\"O\",540:\"P\",541:\"Q\",542:\"R\",543:\"S\",544:\"T\",545:\"U\",546:\"V\",\n",
    "                547:\"W\",548:\"X\",549:\"Y\",550:\"Z\",551:\",\",552:\".\",553:\";\",554:\"!\",555:\"?\",556:\" \"}"
   ]
  },
  {
   "cell_type": "code",
   "execution_count": 28,
   "id": "1fd0aecb-2715-4220-bf79-317d93771464",
   "metadata": {},
   "outputs": [],
   "source": [
    "def characters(string):\n",
    "    return [string[i:i+3] for i in range(0, len(string), 3)]"
   ]
  },
  {
   "cell_type": "code",
   "execution_count": 29,
   "id": "945aef30-82ca-440c-824f-cdb8eae286fd",
   "metadata": {},
   "outputs": [],
   "source": [
    "def ssquare(e,f,g):\n",
    "    d = 1\n",
    "    while f >= 1:\n",
    "        if f % 2 == 1:\n",
    "            d = (e * d) % g\n",
    "        e = (e ** 2) % g\n",
    "        f = f // 2\n",
    "    return d"
   ]
  },
  {
   "cell_type": "code",
   "execution_count": 30,
   "id": "64183e2d-db10-45b0-9145-021c6b86d478",
   "metadata": {},
   "outputs": [],
   "source": [
    "def alice1(a):\n",
    "    A = ssquare(g,a,p) \n",
    "    return A\n",
    "def bob(m,k,A,g,p):\n",
    "    c1 = ssquare(g,k,p)\n",
    "    c2 = int((m * ssquare(A,k,p))) % p\n",
    "    return c1, c2\n",
    "def alice2(c1,c2):\n",
    "    x = ssquare(c1,(p-1-a),p)\n",
    "    message = (c2*x)%p\n",
    "    m1 = characters(str(message))\n",
    "    message_final = ''\n",
    "    for i in m1:\n",
    "        message_final += str(encrypt_dict[int(i)])\n",
    "    print(message_final)"
   ]
  },
  {
   "cell_type": "code",
   "execution_count": 31,
   "id": "e37e140c-c482-4ddc-b66f-5b13e3e74575",
   "metadata": {},
   "outputs": [],
   "source": [
    "#Public Data\n",
    "p = 696997006842522009149963396321\n",
    "g = 2"
   ]
  },
  {
   "cell_type": "code",
   "execution_count": 32,
   "id": "23e4a638-83a2-498b-aa1e-96732aa54436",
   "metadata": {},
   "outputs": [],
   "source": [
    "#Alice Data\n",
    "a = 153"
   ]
  },
  {
   "cell_type": "code",
   "execution_count": 33,
   "id": "be3892e6-456e-4533-8d9c-8520a02a34a1",
   "metadata": {},
   "outputs": [
    {
     "name": "stdin",
     "output_type": "stream",
     "text": [
      "Enter secret message (all caps):  my message\n"
     ]
    },
    {
     "name": "stdout",
     "output_type": "stream",
     "text": [
      "512524556512504518518500506504\n",
      "56259458762582031900545184381 227614258890127242861831282819\n"
     ]
    }
   ],
   "source": [
    "#Bob Data\n",
    "key_list = list(encrypt_dict.keys())\n",
    "val_list = list(encrypt_dict.values())\n",
    "message = input('Enter secret message: ')\n",
    "m = ''\n",
    "for i in range(len(message)):\n",
    "    m += str(key_list[val_list.index(message[i])])\n",
    "print(int(m))\n",
    "k = 197\n",
    "\n",
    "c1, c2 = bob(int(m),k,alice1(a),g,p)\n",
    "print(c1, c2)"
   ]
  },
  {
   "cell_type": "code",
   "execution_count": 34,
   "id": "22e25101-ff1d-4e02-98a3-bbe217c6f861",
   "metadata": {},
   "outputs": [
    {
     "name": "stdout",
     "output_type": "stream",
     "text": [
      "my message\n"
     ]
    }
   ],
   "source": [
    "alice2(c1, c2)"
   ]
  }
 ],
 "metadata": {
  "kernelspec": {
   "display_name": "Python 3 (ipykernel)",
   "language": "python",
   "name": "python3"
  },
  "language_info": {
   "codemirror_mode": {
    "name": "ipython",
    "version": 3
   },
   "file_extension": ".py",
   "mimetype": "text/x-python",
   "name": "python",
   "nbconvert_exporter": "python",
   "pygments_lexer": "ipython3",
   "version": "3.10.6"
  }
 },
 "nbformat": 4,
 "nbformat_minor": 5
}
