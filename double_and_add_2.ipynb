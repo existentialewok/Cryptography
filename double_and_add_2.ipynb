{
 "cells": [
  {
   "cell_type": "markdown",
   "id": "ab49309c-3d05-4dd7-9fe9-73f0290cf5a7",
   "metadata": {},
   "source": [
    "# Elliptic Curve Cryptography\n",
    "\n",
    "This Python program encrypts / decrypts a message using elliptic curves\n",
    "\n",
    "For this program, we use the elliptic curve $y^2 = x^3 + 21x + 6$.\n",
    "\n",
    "In the classroom, we used the elliptic curve $y^2 = x^3 - 5x + 8$ over $ \\mathbb{F}_{37}$, since it consists of 45 points, so can be used for the entire alphabet."
   ]
  },
  {
   "cell_type": "code",
   "execution_count": 3,
   "id": "c3c3450f-9c33-4803-a230-f456687b5b02",
   "metadata": {},
   "outputs": [],
   "source": [
    "def elliptic_add_mod(p1, p2, A, B, ff):\n",
    "    x1 = p1[0]\n",
    "    y1 = p1[1]\n",
    "    x2 = p2[0]\n",
    "    y2 = p2[1]\n",
    "    a = 'Oo'\n",
    "    if p1 == a:\n",
    "        return p2\n",
    "    elif p2 == a:\n",
    "        return p1\n",
    "    elif x1 == x2 and (y1 + y2) % ff == 0:\n",
    "        return a\n",
    "    if x1 == x2 and y1 == y2:\n",
    "        l = ((3*(x1**2)+A)) * inverse((2 * y1),ff)\n",
    "    else:\n",
    "        l = ((y2-y1)* inverse((x2-x1),ff))\n",
    "    x3 = (l ** 2) - x1 - x2\n",
    "    y3 = (l * (x1 - x3)) - y1\n",
    "    return x3 % ff, y3 % ff\n",
    "def inverse(n,mod):\n",
    "    a = gcd(n,mod)[1]\n",
    "    return a % mod\n",
    "def gcd(p1, p2):\n",
    "    u = 1\n",
    "    g = p1\n",
    "    x = 0\n",
    "    y = p2\n",
    "    while y != 0:\n",
    "        q = g // y\n",
    "        t = g % y\n",
    "        s = u - (q * x)\n",
    "        u = x\n",
    "        g = y\n",
    "        x = s\n",
    "        y = t\n",
    "    v = ((g-p1*u)/p2)\n",
    "    return g,u,v"
   ]
  },
  {
   "cell_type": "code",
   "execution_count": 5,
   "id": "22c18a3d-4588-4698-9b5a-c64b212433a2",
   "metadata": {},
   "outputs": [],
   "source": [
    "def double_and_add1(m,A,B,p,P):\n",
    "    n = m % p\n",
    "    Q = P\n",
    "    R = 'Oo'\n",
    "    i = 1\n",
    "    while n > 0:\n",
    "        if n % 2 == 1:\n",
    "            R = elliptic_add_mod(R,Q,A,B,p)\n",
    "        Q = elliptic_add_mod(Q,Q,A,B,p)\n",
    "        n = int(n / 2)\n",
    "        i += 1\n",
    "    return R"
   ]
  },
  {
   "cell_type": "code",
   "execution_count": 23,
   "id": "eb0d6bb0-baaa-4eca-8716-49c0afd21d61",
   "metadata": {},
   "outputs": [
    {
     "name": "stdout",
     "output_type": "stream",
     "text": [
      "(21, 13) [(16, 13), (9, 1)]\n",
      "GO\n"
     ]
    }
   ],
   "source": [
    "# Elliptic curve used is y^2 = x^3 + Ax + B, over mod Prime\n",
    "# A = 21, B = 6, Prime = 23\n",
    "encrypt_dict2 = {(21,5):\"G\",(17,20):\"O\"}\n",
    "P = (6,3)\n",
    "A = 21\n",
    "B = 6\n",
    "mod = 23\n",
    "alice_num = 16\n",
    "bob_num = 9\n",
    "\n",
    "#Alice\n",
    "alice_public_key = double_and_add(alice_num,A,B,mod,P)\n",
    "\n",
    "#Bob\n",
    "key_list = list(encrypt_dict2.keys())\n",
    "val_list = list(encrypt_dict2.values())\n",
    "#message = input('Enter message (All Caps): ')\n",
    "message = \"GO\"\n",
    "converted = []\n",
    "for k in message:\n",
    "    Y = key_list[val_list.index(k)] \n",
    "    converted.append(Y)\n",
    "c1 = double_and_add1(bob_num,A,B,mod,P)\n",
    "kqa = double_and_add1(bob_num,A,B,mod,alice_public_key)\n",
    "c2_final = []\n",
    "for l in converted:\n",
    "    c2_temp = elliptic_add_mod(l,kqa,A,B,mod)\n",
    "    c2_final.append(c2_temp)  \n",
    "print(c1, c2_final)\n",
    "#Alice1\n",
    "nac1 = double_and_add1(alice_num,A,B,mod,c1)\n",
    "nac1_flip = (nac1[0], (-1 * nac1[1]) % mod)\n",
    "decrypted = \"\"\n",
    "for r in c2_final:\n",
    "    decrypt = elliptic_add_mod(r,nac1_flip,A,B,mod)\n",
    "    decrypted += str(encrypt_dict2[decrypt])\n",
    "print(decrypted)"
   ]
  }
 ],
 "metadata": {
  "kernelspec": {
   "display_name": "Python 3 (ipykernel)",
   "language": "python",
   "name": "python3"
  },
  "language_info": {
   "codemirror_mode": {
    "name": "ipython",
    "version": 3
   },
   "file_extension": ".py",
   "mimetype": "text/x-python",
   "name": "python",
   "nbconvert_exporter": "python",
   "pygments_lexer": "ipython3",
   "version": "3.10.6"
  }
 },
 "nbformat": 4,
 "nbformat_minor": 5
}
